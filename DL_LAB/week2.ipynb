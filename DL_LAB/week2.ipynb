{
 "cells": [
  {
   "cell_type": "code",
   "execution_count": 1,
   "id": "8f7fa9ee-2708-45c2-82e6-c6688fecdbbe",
   "metadata": {
    "colab": {
     "base_uri": "https://localhost:8080/"
    },
    "id": "8f7fa9ee-2708-45c2-82e6-c6688fecdbbe",
    "outputId": "e0196712-7103-41ee-c166-10dc4e1a9142"
   },
   "outputs": [
    {
     "name": "stdout",
     "output_type": "stream",
     "text": [
      "x: tensor(3.5000, requires_grad=True)\n",
      "y = x*x:  tensor(12.2500, grad_fn=<MulBackward0>)\n",
      "z = 2*y+3:  tensor(27.5000, grad_fn=<AddBackward0>)\n",
      "gradient dz/dx\n",
      "gradient at x=3.5 tensor(14.)\n"
     ]
    }
   ],
   "source": [
    "import torch\n",
    "import numpy as np\n",
    "x=torch.tensor(3.5,requires_grad=True)\n",
    "y=x*x\n",
    "z=2*y+3\n",
    "print(\"x:\",x)\n",
    "print(\"y = x*x: \",y)\n",
    "print(\"z = 2*y+3: \",z)\n",
    "z.backward()\n",
    "print(\"gradient dz/dx\")\n",
    "print(\"gradient at x=3.5\",x.grad)"
   ]
  },
  {
   "cell_type": "code",
   "execution_count": 2,
   "id": "8940b561-8386-434d-ae83-3c9f71d715e0",
   "metadata": {
    "colab": {
     "base_uri": "https://localhost:8080/"
    },
    "id": "8940b561-8386-434d-ae83-3c9f71d715e0",
    "outputId": "087ebcc7-3994-4072-8b70-2b7cfd7de391"
   },
   "outputs": [
    {
     "name": "stdout",
     "output_type": "stream",
     "text": [
      "dz/da:  tensor(64.)\n",
      "analytical:  tensor(64., grad_fn=<AddBackward0>)\n"
     ]
    }
   ],
   "source": [
    "#q1\n",
    "a=torch.tensor(2.0, requires_grad=True)\n",
    "b=torch.tensor(5.0)\n",
    "x=2*a+3*b\n",
    "y=5*a*a+3*b*b*b\n",
    "z=2*x+3*y\n",
    "z.backward()\n",
    "print(\"dz/da: \",a.grad)\n",
    "\n",
    "analytical=2*2+3*10*a\n",
    "print(\"analytical: \",analytical)"
   ]
  },
  {
   "cell_type": "code",
   "execution_count": 3,
   "id": "89de889d-ed13-4748-969b-186d6df81096",
   "metadata": {
    "colab": {
     "base_uri": "https://localhost:8080/"
    },
    "id": "89de889d-ed13-4748-969b-186d6df81096",
    "outputId": "df79a6ea-3bcc-4937-ef5b-15778eb43286"
   },
   "outputs": [
    {
     "name": "stdout",
     "output_type": "stream",
     "text": [
      "da/dw:  tensor(10.)\n",
      "tensor(10., grad_fn=<MulBackward0>)\n"
     ]
    }
   ],
   "source": [
    "#q2\n",
    "x=torch.tensor(10.0, requires_grad=True)\n",
    "w=torch.tensor(5.0,requires_grad=True)\n",
    "b=torch.tensor(3.0, requires_grad=True)\n",
    "u=w*x\n",
    "v=u+b\n",
    "a=torch.relu(v)\n",
    "a.backward()\n",
    "print(\"da/dw: \",w.grad)\n",
    "if v>0:\n",
    "  reludiff=1\n",
    "else:\n",
    "  reludiff=0\n",
    "analytical=reludiff*x\n",
    "print(analytical)"
   ]
  },
  {
   "cell_type": "code",
   "execution_count": 4,
   "id": "774a7502-cf5b-4601-98f5-c5545780e29d",
   "metadata": {
    "colab": {
     "base_uri": "https://localhost:8080/"
    },
    "id": "774a7502-cf5b-4601-98f5-c5545780e29d",
    "outputId": "40d91687-6409-482f-8aa0-7267401f94cc"
   },
   "outputs": [
    {
     "name": "stdout",
     "output_type": "stream",
     "text": [
      "da/dw : 4.529942543740617e-06\n",
      "analytically: \n",
      "tensor(4.5299e-06, grad_fn=<MulBackward0>)\n"
     ]
    }
   ],
   "source": [
    "#q3\n",
    "\n",
    "x=torch.tensor(2.0, requires_grad=True)\n",
    "w=torch.tensor(5.0,requires_grad=True)\n",
    "b=torch.tensor(3.0, requires_grad=True)\n",
    "u=w*x\n",
    "v=u+b\n",
    "a=torch.sigmoid(v)\n",
    "a.backward()\n",
    "print(\"da/dw :\",w.grad.item())\n",
    "analytically=(a*(1-a))*x\n",
    "print(\"analytically: \")\n",
    "print(analytically)"
   ]
  },
  {
   "cell_type": "code",
   "execution_count": 5,
   "id": "m_by_0ViWtlG",
   "metadata": {
    "colab": {
     "base_uri": "https://localhost:8080/"
    },
    "id": "m_by_0ViWtlG",
    "outputId": "b7f2d880-1420-4ab0-ac61-418cdaa29674"
   },
   "outputs": [
    {
     "name": "stdout",
     "output_type": "stream",
     "text": [
      "df/dx:  tensor(-0.0008)\n",
      "analytically:  tensor(-0.0008, grad_fn=<MulBackward0>)\n"
     ]
    }
   ],
   "source": [
    "#q4\n",
    "x=torch.tensor(2.0, requires_grad=True)\n",
    "a=x*x\n",
    "b=2*x\n",
    "c=torch.sin(x)\n",
    "d=-(a)-(b)-(c)\n",
    "f=torch.exp(d)\n",
    "f.backward()\n",
    "print(\"df/dx: \",x.grad)\n",
    "diff=f*(-(2*x)-2-torch.cos(x))\n",
    "print(\"analytically: \",diff)"
   ]
  },
  {
   "cell_type": "code",
   "execution_count": 6,
   "id": "90306aa1-b824-40fe-b2ba-01f0755cc9f6",
   "metadata": {
    "colab": {
     "base_uri": "https://localhost:8080/"
    },
    "id": "90306aa1-b824-40fe-b2ba-01f0755cc9f6",
    "outputId": "f8cb85fd-ec36-40dd-f12b-a4c130aacd2a"
   },
   "outputs": [
    {
     "name": "stdout",
     "output_type": "stream",
     "text": [
      "dy/dx:  tensor(326.)\n",
      "analytically:  tensor(326., grad_fn=<AddBackward0>)\n"
     ]
    }
   ],
   "source": [
    "#q5\n",
    "x=torch.tensor(2.0, requires_grad=True)\n",
    "y=(8*x**4)+(3*x**3)+(7*x**2)+(6*x)+3\n",
    "y.backward()\n",
    "print(\"dy/dx: \",x.grad)\n",
    "diff=(32*x**3)+(9*x**2)+14*x+6\n",
    "print(\"analytically: \",diff)"
   ]
  },
  {
   "cell_type": "code",
   "execution_count": 14,
   "id": "nMoZftMJaQSy",
   "metadata": {
    "id": "nMoZftMJaQSy"
   },
   "outputs": [
    {
     "name": "stdout",
     "output_type": "stream",
     "text": [
      "tensor(0.0183) tensor(0.0168) tensor(0.0183)\n"
     ]
    }
   ],
   "source": [
    "#q6\n",
    "x_in, y_in, z_in = 2.0,2.0,2.0\n",
    "x=torch.tensor(x_in, requires_grad=True)\n",
    "y=torch.tensor(y_in,requires_grad=True)\n",
    "z=torch.tensor(z_in, requires_grad=True)\n",
    "f=torch.tanh(torch.log(1+(z*2*x)/torch.sin(y)))\n",
    "f.backward()\n",
    "print(x.grad,y.grad,z.grad)\n",
    "\n"
   ]
  },
  {
   "cell_type": "code",
   "execution_count": null,
   "id": "c65a32fa-730f-4347-bf3a-707c95ffd87b",
   "metadata": {},
   "outputs": [],
   "source": []
  }
 ],
 "metadata": {
  "colab": {
   "provenance": []
  },
  "kernelspec": {
   "display_name": "Python 3 (ipykernel)",
   "language": "python",
   "name": "python3"
  },
  "language_info": {
   "codemirror_mode": {
    "name": "ipython",
    "version": 3
   },
   "file_extension": ".py",
   "mimetype": "text/x-python",
   "name": "python",
   "nbconvert_exporter": "python",
   "pygments_lexer": "ipython3",
   "version": "3.11.7"
  }
 },
 "nbformat": 4,
 "nbformat_minor": 5
}
