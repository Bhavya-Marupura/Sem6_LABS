{
 "cells": [
  {
   "cell_type": "code",
   "execution_count": 1,
   "id": "dc680ea0-0441-4602-a546-40514ba2f4bb",
   "metadata": {},
   "outputs": [
    {
     "data": {
      "text/plain": [
       "'2.1.2'"
      ]
     },
     "execution_count": 1,
     "metadata": {},
     "output_type": "execute_result"
    }
   ],
   "source": [
    "import torch\n",
    "torch.__version__"
   ]
  },
  {
   "cell_type": "code",
   "execution_count": 22,
   "id": "4987cb0b-1cbd-4d3e-aa62-b6909a4a2f74",
   "metadata": {},
   "outputs": [
    {
     "name": "stdout",
     "output_type": "stream",
     "text": [
      "tensor(7)\n",
      "7\n",
      "tensor([7, 7])\n",
      "tensor([[ 7,  8],\n",
      "        [ 9, 10]])\n",
      "torch.Size([2, 2])\n",
      "tensor([[[1, 2, 3],\n",
      "         [4, 5, 6],\n",
      "         [7, 8, 9]]])\n",
      "3\n",
      "3\n",
      "num of ele:  9\n"
     ]
    }
   ],
   "source": [
    "scalar=torch.tensor(7)\n",
    "print(scalar)\n",
    "print(scalar.item())\n",
    "vector=torch.tensor([7,7])\n",
    "print(vector)\n",
    "matrix=torch.tensor([[7,8],\n",
    "                     [9,10]])\n",
    "print(matrix)\n",
    "print(matrix.shape)\n",
    "tensor=torch.tensor([[[1,2,3],\n",
    "                     [4,5,6],\n",
    "                     [7,8,9]]])\n",
    "print(tensor)\n",
    "print(tensor.ndim)\n",
    "print(len(tensor.shape))\n",
    "print(\"num of ele: \",tensor.numel())"
   ]
  },
  {
   "cell_type": "code",
   "execution_count": 40,
   "id": "fad844fb-a65d-4756-a624-a0d4570ae000",
   "metadata": {},
   "outputs": [
    {
     "name": "stdout",
     "output_type": "stream",
     "text": [
      "tensor([[0.2107, 0.9890, 0.1654, 0.3997],\n",
      "        [0.5559, 0.5148, 0.7077, 0.0636],\n",
      "        [0.8443, 0.2271, 0.2249, 0.7048]])\n",
      "torch.Size([3, 4])\n",
      "torch.float32\n",
      "2\n",
      "cpu\n",
      "tensor([[0., 0., 0., 0.],\n",
      "        [0., 0., 0., 0.],\n",
      "        [0., 0., 0., 0.]]) torch.Size([3, 4]) torch.float32\n",
      "tensor([[1., 1., 1., 1.],\n",
      "        [1., 1., 1., 1.],\n",
      "        [1., 1., 1., 1.]]) torch.Size([3, 4]) torch.float32\n",
      "tensor([1, 2, 3, 4, 5, 6, 7, 8, 9])\n",
      "tensor([0, 0, 0, 0, 0, 0, 0, 0, 0])\n"
     ]
    }
   ],
   "source": [
    "rand_tensor=torch.rand((3,4))\n",
    "print(rand_tensor)\n",
    "print(rand_tensor.shape)\n",
    "print(rand_tensor.dtype)\n",
    "print(rand_tensor.ndim)\n",
    "print(rand_tensor.device)\n",
    "zero_tensor = torch.zeros((3,4))\n",
    "print(zero_tensor, zero_tensor.shape, zero_tensor.dtype)\n",
    "ones_tensor = torch.ones((3,4))\n",
    "print(ones_tensor, ones_tensor.shape, ones_tensor.dtype)\n",
    "\n",
    "zero_to_ten= torch.arange(1,10,1)\n",
    "print(zero_to_ten)\n",
    "range_tensor = torch.zeros_like(zero_to_ten)\n",
    "print(range_tensor)"
   ]
  },
  {
   "cell_type": "code",
   "execution_count": 44,
   "id": "a87659ad-2dae-4370-92e4-e2cd6d60f8c8",
   "metadata": {},
   "outputs": [
    {
     "name": "stdout",
     "output_type": "stream",
     "text": [
      "cuda\n",
      "1\n"
     ]
    }
   ],
   "source": [
    "torch.cuda.is_available()\n",
    "device=\"cuda\" if torch.cuda.is_available() else \"cpu\"\n",
    "print(device)\n",
    "print(torch.cuda.device_count())"
   ]
  },
  {
   "cell_type": "code",
   "execution_count": 62,
   "id": "b7f8f87a-d6a3-495b-8fa5-7d187f19630e",
   "metadata": {},
   "outputs": [
    {
     "name": "stdout",
     "output_type": "stream",
     "text": [
      "tensor([[1, 2, 3],\n",
      "        [4, 5, 6]]) torch.Size([2, 3])\n",
      "tensor([[1, 2],\n",
      "        [3, 4],\n",
      "        [5, 6]]) torch.Size([3, 2])\n",
      "tensor([1, 2, 3, 4, 5, 6]) torch.Size([6])\n",
      "torch.Size([3, 1, 4])\n",
      "tensor([[[5, 3, 1, 4]],\n",
      "\n",
      "        [[1, 3, 2, 8]],\n",
      "\n",
      "        [[1, 2, 2, 7]]])\n",
      "tensor([[5, 3, 1, 4],\n",
      "        [1, 3, 2, 8],\n",
      "        [1, 2, 2, 7]])\n",
      "torch.Size([3, 4])\n",
      "tensor([[[1, 2, 3],\n",
      "         [4, 5, 6]]]) torch.Size([1, 2, 3])\n",
      "tensor([[[1],\n",
      "         [2],\n",
      "         [3]],\n",
      "\n",
      "        [[4],\n",
      "         [5],\n",
      "         [6]]]) torch.Size([2, 3, 1])\n",
      "tensor([[1],\n",
      "        [2],\n",
      "        [3],\n",
      "        [4],\n",
      "        [5],\n",
      "        [6]]) torch.Size([6, 1])\n",
      "tensor([[ 1,  2,  3,  4,  5],\n",
      "        [ 6,  7,  8,  9, 10]]) torch.Size([2, 5])\n",
      "tensor([[ 1,  2,  3,  4,  5],\n",
      "        [ 6,  7,  8,  9, 10]]) torch.Size([2, 5])\n",
      "tensor([[ 1,  6],\n",
      "        [ 2,  7],\n",
      "        [ 3,  8],\n",
      "        [ 4,  9],\n",
      "        [ 5, 10]]) torch.Size([5, 2])\n"
     ]
    }
   ],
   "source": [
    "#Q1\n",
    "tensor=torch.tensor([[1,2,3],\n",
    "                     [4,5,6]])\n",
    "print(tensor, tensor.shape)\n",
    "#reshaping\n",
    "reshaped_tensor=torch.reshape(tensor,(3,2))\n",
    "print(reshaped_tensor, reshaped_tensor.shape)\n",
    "#squeezing\n",
    "squeezed_tensor=tensor.reshape([1,6]).squeeze()\n",
    "print(squeezed_tensor, squeezed_tensor.shape)\n",
    "rand_tensor=torch.randint(1,10,(3,1,4))\n",
    "print(rand_tensor.shape)\n",
    "print(rand_tensor)\n",
    "print(rand_tensor.squeeze())\n",
    "print(rand_tensor.squeeze().shape)\n",
    "#unsqueezing\n",
    "unsqueezed_tensor=tensor.unsqueeze(0)\n",
    "print(unsqueezed_tensor,unsqueezed_tensor.shape)\n",
    "unsqueezed_tensor1=tensor.unsqueeze(-1)\n",
    "print(unsqueezed_tensor1,unsqueezed_tensor1.shape)\n",
    "unsqueezed_tensor2=squeezed_tensor.unsqueeze(1)\n",
    "print(unsqueezed_tensor2,unsqueezed_tensor2.shape)\n",
    "#stack\n",
    "x=torch.tensor([1,2,3,4,5])\n",
    "y=torch.tensor([6,7,8,9,10])\n",
    "stack=torch.stack((x,y))\n",
    "print(stack,stack.shape)\n",
    "stack1=torch.stack((x,y),0)\n",
    "print(stack1,stack1.shape)\n",
    "stack2=torch.stack((x,y),1)\n",
    "print(stack2,stack2.shape)"
   ]
  },
  {
   "cell_type": "code",
   "execution_count": 66,
   "id": "436e63c6-e084-4ddb-9e79-22570a3ec9d8",
   "metadata": {},
   "outputs": [
    {
     "name": "stdout",
     "output_type": "stream",
     "text": [
      "tensor([[[5, 3, 1, 4]],\n",
      "\n",
      "        [[1, 3, 2, 8]],\n",
      "\n",
      "        [[1, 2, 2, 7]]]) torch.Size([3, 1, 4])\n",
      "tensor([[[5, 3, 1, 4],\n",
      "         [1, 3, 2, 8],\n",
      "         [1, 2, 2, 7]]]) torch.Size([1, 3, 4])\n"
     ]
    }
   ],
   "source": [
    "#q2\n",
    "#permute = rotating the dimension of the tensor\n",
    "print(rand_tensor,rand_tensor.shape)\n",
    "permute_tensor=torch.permute(rand_tensor,(1,0,2))\n",
    "print(permute_tensor, permute_tensor.shape)"
   ]
  },
  {
   "cell_type": "code",
   "execution_count": 74,
   "id": "dd2ef54d-a466-4def-8143-5559f5ada1ed",
   "metadata": {},
   "outputs": [
    {
     "name": "stdout",
     "output_type": "stream",
     "text": [
      "tensor([[1, 2, 3],\n",
      "        [4, 5, 6]]) torch.Size([2, 3])\n",
      "tensor([[2, 3],\n",
      "        [5, 6]]) torch.Size([2, 2])\n"
     ]
    }
   ],
   "source": [
    "#q3\n",
    "print(tensor,tensor.shape)\n",
    "indices=torch.tensor([1,2])\n",
    "index_tensor=torch.index_select(tensor,1,indices)\n",
    "print(index_tensor,index_tensor.shape)"
   ]
  },
  {
   "cell_type": "code",
   "execution_count": 76,
   "id": "15867330-52fc-43cc-9843-dad7561d413f",
   "metadata": {},
   "outputs": [
    {
     "name": "stdout",
     "output_type": "stream",
     "text": [
      "tensor([[1, 2, 3],\n",
      "        [4, 5, 6]]) torch.Size([2, 3])\n",
      "[[1 2 3]\n",
      " [4 5 6]] (2, 3)\n"
     ]
    }
   ],
   "source": [
    "#q4\n",
    "import numpy as np\n",
    "a=np.array([[1,2,3],\n",
    "            [4,5,6]])\n",
    "arr_to_tensor=torch.from_numpy(a)\n",
    "print(arr_to_tensor, arr_to_tensor.shape)\n",
    "tensor_to_arr=arr_to_tensor.numpy()\n",
    "print(tensor_to_arr, tensor_to_arr.shape)"
   ]
  },
  {
   "cell_type": "code",
   "execution_count": 77,
   "id": "177430b8-196e-4f4c-9398-4c1203f09493",
   "metadata": {},
   "outputs": [
    {
     "data": {
      "text/plain": [
       "tensor([[6, 7, 4, 6, 2, 3, 5],\n",
       "        [1, 1, 7, 2, 1, 7, 5],\n",
       "        [2, 6, 8, 1, 6, 6, 4],\n",
       "        [1, 9, 9, 9, 4, 1, 4],\n",
       "        [1, 6, 6, 3, 4, 4, 2],\n",
       "        [4, 5, 7, 8, 5, 6, 7],\n",
       "        [2, 1, 3, 3, 9, 4, 8]])"
      ]
     },
     "execution_count": 77,
     "metadata": {},
     "output_type": "execute_result"
    }
   ],
   "source": [
    "#q5\n",
    "random=torch.randint(1,10,(7,7))\n",
    "random"
   ]
  },
  {
   "cell_type": "code",
   "execution_count": 86,
   "id": "2d5192d7-868d-480e-9ba3-8555f975a26a",
   "metadata": {},
   "outputs": [
    {
     "name": "stdout",
     "output_type": "stream",
     "text": [
      "tensor([[3, 5, 1, 4, 4, 4, 4]])\n",
      "tensor([[121],\n",
      "        [ 75],\n",
      "        [112],\n",
      "        [129],\n",
      "        [ 91],\n",
      "        [148],\n",
      "        [110]]) torch.Size([7, 1])\n"
     ]
    }
   ],
   "source": [
    "#q6\n",
    "sec_tensor=torch.randint(1,10,(1,7))\n",
    "print(sec_tensor)\n",
    "mul_tensor=torch.matmul(random,sec_tensor.T)\n",
    "print(mul_tensor, mul_tensor.shape)"
   ]
  },
  {
   "cell_type": "code",
   "execution_count": 84,
   "id": "b5986cf7-058a-438f-b753-43791b7ffaa8",
   "metadata": {},
   "outputs": [
    {
     "name": "stdout",
     "output_type": "stream",
     "text": [
      "tensor on gpu:  tensor([[1, 2, 3],\n",
      "        [4, 5, 6]], device='cuda:0')\n"
     ]
    }
   ],
   "source": [
    "#Q7\n",
    "tensor\n",
    "tensor_to_gpu=tensor.to(device)\n",
    "print(\"tensor on gpu: \",tensor_to_gpu)"
   ]
  },
  {
   "cell_type": "code",
   "execution_count": 87,
   "id": "b125a0ee-9817-4331-ad3b-60010a44fd7f",
   "metadata": {},
   "outputs": [
    {
     "name": "stdout",
     "output_type": "stream",
     "text": [
      "tensor([[121],\n",
      "        [ 75],\n",
      "        [112],\n",
      "        [129],\n",
      "        [ 91],\n",
      "        [148],\n",
      "        [110]]) torch.Size([7, 1])\n"
     ]
    }
   ],
   "source": [
    "#q8\n",
    "adjusted_tensor = torch.reshape(sec_tensor,(7,1))\n",
    "mulmat_tensor=torch.matmul(random,adjusted_tensor)\n",
    "print(mulmat_tensor, mulmat_tensor.shape)"
   ]
  },
  {
   "cell_type": "code",
   "execution_count": 88,
   "id": "a3676ec9-cf36-4460-a8ef-63025e4390e2",
   "metadata": {},
   "outputs": [
    {
     "name": "stdout",
     "output_type": "stream",
     "text": [
      "tensor(6, device='cuda:0')\n",
      "tensor(1, device='cuda:0')\n"
     ]
    }
   ],
   "source": [
    "#q9\n",
    "print(tensor_to_gpu.max())\n",
    "print(tensor_to_gpu.min())"
   ]
  },
  {
   "cell_type": "code",
   "execution_count": 89,
   "id": "9b62d198-9a3d-4877-944b-9e416be93cd6",
   "metadata": {},
   "outputs": [
    {
     "name": "stdout",
     "output_type": "stream",
     "text": [
      "tensor(0, device='cuda:0')\n",
      "tensor(5, device='cuda:0')\n"
     ]
    }
   ],
   "source": [
    "#q10\n",
    "print(torch.argmin(tensor_to_gpu))\n",
    "print(torch.argmax(tensor_to_gpu))"
   ]
  },
  {
   "cell_type": "code",
   "execution_count": 97,
   "id": "de77e8be-4be4-4737-b1d8-2d857c13c670",
   "metadata": {},
   "outputs": [
    {
     "name": "stdout",
     "output_type": "stream",
     "text": [
      "tensor([[[[4, 5, 2, 3, 2, 4, 6, 6, 5, 6]]]]) tensor([4, 5, 2, 3, 2, 4, 6, 6, 5, 6])\n",
      "torch.Size([1, 1, 1, 10]) torch.Size([10])\n"
     ]
    }
   ],
   "source": [
    "#q11\n",
    "torch.manual_seed(7)\n",
    "random_tensor=torch.randint(1,7,(1,1,1,10))\n",
    "new_tensor=random_tensor.squeeze()\n",
    "print(random_tensor,new_tensor)\n",
    "print(random_tensor.shape,new_tensor.shape)\n"
   ]
  }
 ],
 "metadata": {
  "kernelspec": {
   "display_name": "Python 3 (ipykernel)",
   "language": "python",
   "name": "python3"
  },
  "language_info": {
   "codemirror_mode": {
    "name": "ipython",
    "version": 3
   },
   "file_extension": ".py",
   "mimetype": "text/x-python",
   "name": "python",
   "nbconvert_exporter": "python",
   "pygments_lexer": "ipython3",
   "version": "3.11.7"
  }
 },
 "nbformat": 4,
 "nbformat_minor": 5
}
